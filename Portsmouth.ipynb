{
 "cells": [
  {
   "cell_type": "code",
   "execution_count": 1,
   "id": "a7b4a91a",
   "metadata": {},
   "outputs": [],
   "source": [
    "# load packages\n",
    "import madina as md\n",
    "import geopandas as gpd\n",
    "from sqlalchemy import create_engine\n",
    "from dotenv import load_dotenv\n",
    "import os\n",
    "\n",
    "# set up access to utile database\n",
    "load_dotenv()\n",
    "DB_URL = f\"postgresql://{os.getenv(\"USER\")}:{os.getenv(\"PW\")}@{os.getenv(\"HOST\")}:{os.getenv(\"PORT\")}/{os.getenv(\"DB\")}\"\n",
    "con = create_engine(DB_URL)\n",
    "\n",
    "\n",
    "states = {\n",
    "    \"MA\": 25,\n",
    "    \"NH\": 33\n",
    "}"
   ]
  },
  {
   "cell_type": "code",
   "execution_count": 2,
   "id": "9f55c7d3",
   "metadata": {},
   "outputs": [],
   "source": [
    "muni = \"Portsmouth\"\n",
    "state = \"NH\""
   ]
  },
  {
   "cell_type": "code",
   "execution_count": 3,
   "id": "7e8ceb5d",
   "metadata": {},
   "outputs": [],
   "source": [
    "query = f'''SELECT osm_roads.*, osm_roads.geometry as geom FROM osm_roads\n",
    "JOIN tiger_cousub\n",
    "ON st_intersects(tiger_cousub.geometry, osm_roads.geometry)\n",
    "WHERE starts_with(tiger_cousub.\"geoid\", '{states[state]}')\n",
    "    AND tiger_cousub.\"name\" = '{muni}'\n",
    "'''\n",
    "roads = gpd.read_postgis(query, con)"
   ]
  },
  {
   "cell_type": "code",
   "execution_count": 4,
   "id": "4313a55a",
   "metadata": {},
   "outputs": [
    {
     "name": "stdout",
     "output_type": "stream",
     "text": [
      "['service' 'unclassified' 'secondary' 'footway' 'residential' 'motorway'\n",
      " 'primary' 'tertiary' 'tertiary_link' 'steps' 'cycleway' 'motorway_link'\n",
      " 'track' 'path' 'primary_link' 'trunk_link' 'trunk' 'secondary_link'\n",
      " 'pedestrian' 'living_street' 'platform' 'corridor']\n"
     ]
    }
   ],
   "source": [
    "print(roads[\"highway\"].unique())"
   ]
  },
  {
   "cell_type": "code",
   "execution_count": null,
   "id": "0b431336",
   "metadata": {},
   "outputs": [],
   "source": [
    "nonped_rds = [\n",
    "    'motorway',\n",
    "    'service',\n",
    "    'motorway_link',\n",
    "    'trunk_link',\n",
    "    'trunk'\n",
    "]"
   ]
  },
  {
   "cell_type": "code",
   "execution_count": null,
   "id": "1549e8ce",
   "metadata": {},
   "outputs": [],
   "source": [
    "roads.explore()"
   ]
  }
 ],
 "metadata": {
  "kernelspec": {
   "display_name": "access (3.13.2)",
   "language": "python",
   "name": "python3"
  },
  "language_info": {
   "codemirror_mode": {
    "name": "ipython",
    "version": 3
   },
   "file_extension": ".py",
   "mimetype": "text/x-python",
   "name": "python",
   "nbconvert_exporter": "python",
   "pygments_lexer": "ipython3",
   "version": "3.13.2"
  }
 },
 "nbformat": 4,
 "nbformat_minor": 5
}
