{
 "cells": [
  {
   "cell_type": "markdown",
   "id": "aab74105",
   "metadata": {},
   "source": []
  },
  {
   "cell_type": "code",
   "execution_count": 1,
   "id": "a7b4a91a",
   "metadata": {},
   "outputs": [],
   "source": [
    "import madina as md\n",
    "\n",
    "worcester = md.Zonal()"
   ]
  },
  {
   "cell_type": "code",
   "execution_count": null,
   "id": "10885972",
   "metadata": {},
   "outputs": [
    {
     "name": "stdout",
     "output_type": "stream",
     "text": [
      "No zonal_layers yet, load a layer using 'load_layer(layer_name, file_path)'\n",
      "Geographic center: (None, None)\n",
      "No network graph yet. First, insert a layer that contains network segments (streets, sidewalks, ..) and call create_street_network(layer_name,  weight_attribute=None)\n",
      "\tThen,  insert origins and destinations using 'insert_nodes(label, layer_name, weight_attribute)'\n",
      "\tFinally, when done, create a network by calling 'create_street_network()'\n"
     ]
    }
   ],
   "source": [
    "worcester.describe()"
   ]
  }
 ],
 "metadata": {
  "kernelspec": {
   "display_name": "access (3.13.2)",
   "language": "python",
   "name": "python3"
  },
  "language_info": {
   "codemirror_mode": {
    "name": "ipython",
    "version": 3
   },
   "file_extension": ".py",
   "mimetype": "text/x-python",
   "name": "python",
   "nbconvert_exporter": "python",
   "pygments_lexer": "ipython3",
   "version": "3.13.2"
  }
 },
 "nbformat": 4,
 "nbformat_minor": 5
}
